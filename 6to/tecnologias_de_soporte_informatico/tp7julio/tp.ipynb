{
 "cells": [
  {
   "cell_type": "code",
   "execution_count": null,
   "metadata": {},
   "outputs": [],
   "source": [
    "# 1\n",
    "import pandas as pd\n",
    "df1 = pd.read_csv('./barrios.csv')\n",
    "\n",
    "df_new = df1[df1['comuna'] == 3]\n",
    "\n",
    "print(df_new[['barrio','area','perimetro']])"
   ]
  },
  {
   "cell_type": "code",
   "execution_count": null,
   "metadata": {},
   "outputs": [],
   "source": [
    "# 2\n",
    "import pandas as pd\n",
    "df1 = pd.read_csv('./barrios.csv')\n",
    "\n",
    "df3 = df1\n",
    "condicion2 = (df1.comuna <= 10) & (df1.comuna >= 4)\n",
    "df3 = df3[condicion2]\n",
    "print(df3[{'barrio', \"area\", \"perimetro\"}])\n"
   ]
  },
  {
   "cell_type": "code",
   "execution_count": null,
   "metadata": {},
   "outputs": [],
   "source": [
    "# 3\n",
    "import pandas as pd\n",
    "\n",
    "df1 = pd.read_csv('barrios.csv')\n",
    "\n",
    "columna = [5]\n",
    "datos=['barrio','area','perimetro']\n",
    "\n",
    "display(df1.loc[columna, datos])"
   ]
  },
  {
   "cell_type": "code",
   "execution_count": null,
   "metadata": {},
   "outputs": [],
   "source": [
    "# 4\n",
    "import pandas as pd\n",
    "df1 = pd.read_csv('./barrios.csv')\n",
    "\n",
    "df7 = barrios\n",
    "\n",
    "def ver_barrio(valor):\n",
    "  valor = str(valor)\n",
    "  if valor[0] == \"V\":\n",
    "    return valor\n",
    "  return None\n",
    "\n",
    "df7[\"barrio\"]= df7[\"barrio\"].apply(ver_barrio)\n",
    "df7 = df7.dropna()\n",
    "print(df7[\"barrio\"].index)"
   ]
  },
  {
   "cell_type": "code",
   "execution_count": null,
   "metadata": {},
   "outputs": [],
   "source": [
    "# 5\n",
    "import pandas as pd\n",
    "df1 = pd.read_csv('./barrios.csv')\n",
    "\n",
    "contiene = df1[df1['barrio'].str.contains('A')]\n",
    "\n",
    "print(contiene)"
   ]
  },
  {
   "cell_type": "code",
   "execution_count": null,
   "metadata": {},
   "outputs": [],
   "source": [
    "# 6\n",
    "import pandas as pd\n",
    "df1 = pd.read_csv('./barrios.csv')\n",
    "\n",
    "df4 = df1\n",
    "print(df4[{\"perimetro\"}].iloc[15])"
   ]
  },
  {
   "cell_type": "code",
   "execution_count": null,
   "metadata": {},
   "outputs": [],
   "source": [
    "# 7\n",
    "import pandas as pd\n",
    "df1 = pd.read_csv('./barrios.csv')\n",
    "\n",
    "columna = [7]\n",
    "datos=['area']\n",
    "\n",
    "display(df1.loc[columna, datos])"
   ]
  },
  {
   "cell_type": "code",
   "execution_count": null,
   "metadata": {},
   "outputs": [],
   "source": [
    "# 8\n",
    "import pandas as pd\n",
    "\n",
    "df = pd.read_csv(\"./casos.csv\")\n",
    "\n",
    "df1 = df[[\"barrio\", \"comuna\", \"numero_de_caso\"]]\n",
    "\n",
    "condicion1 = df1.numero_de_caso > 6000000\n",
    "condicion2 = df1.numero_de_caso < 7000000\n",
    "\n",
    "df1[condicion1 & condicion2]"
   ]
  },
  {
   "cell_type": "code",
   "execution_count": 32,
   "metadata": {},
   "outputs": [
    {
     "data": {
      "text/html": [
       "<div>\n",
       "<style scoped>\n",
       "    .dataframe tbody tr th:only-of-type {\n",
       "        vertical-align: middle;\n",
       "    }\n",
       "\n",
       "    .dataframe tbody tr th {\n",
       "        vertical-align: top;\n",
       "    }\n",
       "\n",
       "    .dataframe thead th {\n",
       "        text-align: right;\n",
       "    }\n",
       "</style>\n",
       "<table border=\"1\" class=\"dataframe\">\n",
       "  <thead>\n",
       "    <tr style=\"text-align: right;\">\n",
       "      <th></th>\n",
       "      <th>edad</th>\n",
       "      <th>genero</th>\n",
       "    </tr>\n",
       "  </thead>\n",
       "  <tbody>\n",
       "    <tr>\n",
       "      <th>3</th>\n",
       "      <td>55</td>\n",
       "      <td>femenino</td>\n",
       "    </tr>\n",
       "  </tbody>\n",
       "</table>\n",
       "</div>"
      ],
      "text/plain": [
       "   edad    genero\n",
       "3    55  femenino"
      ]
     },
     "execution_count": 32,
     "metadata": {},
     "output_type": "execute_result"
    }
   ],
   "source": [
    "# 9\n",
    "import pandas as pd\n",
    "\n",
    "df = pd.read_csv(\"./casos.csv\")\n",
    "\n",
    "df1 = df[[\"edad\", \"genero\"]]\n",
    "df1.iloc[[3]]"
   ]
  },
  {
   "cell_type": "code",
   "execution_count": null,
   "metadata": {},
   "outputs": [],
   "source": [
    "# 10\n",
    "import pandas as pd\n",
    "\n",
    "df = pd.read_csv(\"./casos.csv\")\n",
    "\n",
    "df1 = df[[\"barrio\", \"tipo_contagio\"]]\n",
    "condicion = df1.tipo_contagio == \"En Investigación\"\n",
    "\n",
    "df2 = df1[condicion]\n",
    "df2.dropna(subset = ['barrio'])"
   ]
  },
  {
   "cell_type": "code",
   "execution_count": null,
   "metadata": {},
   "outputs": [],
   "source": [
    "# 11\n",
    "import pandas as pd\n",
    "\n",
    "df = pd.read_csv(\"./casos.csv\")\n",
    "\n",
    "df1 = df[[\"barrio\"]]\n",
    "\n",
    "condicion = df.edad < 18\n",
    "\n",
    "df2 = df1[condicion]\n",
    "df2.dropna(subset = ['barrio'])"
   ]
  },
  {
   "cell_type": "code",
   "execution_count": null,
   "metadata": {},
   "outputs": [],
   "source": [
    "# 12\n",
    "import pandas as pd\n",
    "\n",
    "df = pd.read_csv(\"./casos.csv\")\n",
    "\n",
    "df1 = df[[\"genero\", \"edad\", \"numero_de_caso\"]]\n",
    "\n",
    "df1 = df1.head(5)\n",
    "df1"
   ]
  },
  {
   "cell_type": "code",
   "execution_count": null,
   "metadata": {},
   "outputs": [],
   "source": [
    "# 13\n",
    "import pandas as pd\n",
    "\n",
    "df = pd.read_csv(\"./casos.csv\")\n",
    "\n",
    "df1 = df[[\"genero\", \"edad\", \"numero_de_caso\"]]\n",
    "\n",
    "condicion = df.comuna != 13\n",
    "\n",
    "df1[condicion]"
   ]
  }
 ],
 "metadata": {
  "kernelspec": {
   "display_name": "Python 3.10.7 64-bit",
   "language": "python",
   "name": "python3"
  },
  "language_info": {
   "codemirror_mode": {
    "name": "ipython",
    "version": 3
   },
   "file_extension": ".py",
   "mimetype": "text/x-python",
   "name": "python",
   "nbconvert_exporter": "python",
   "pygments_lexer": "ipython3",
   "version": "3.10.7"
  },
  "orig_nbformat": 4,
  "vscode": {
   "interpreter": {
    "hash": "e7370f93d1d0cde622a1f8e1c04877d8463912d04d973331ad4851f04de6915a"
   }
  }
 },
 "nbformat": 4,
 "nbformat_minor": 2
}
